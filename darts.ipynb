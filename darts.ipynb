{
 "cells": [
  {
   "cell_type": "markdown",
   "id": "a1a69134-d9aa-47d6-b97a-38b3cf6315b9",
   "metadata": {},
   "source": [
    "# Hands On with Darts (Time Series Analysis)"
   ]
  },
  {
   "cell_type": "code",
   "execution_count": 2,
   "id": "e21faace-37e1-412a-8974-2def7ba33fe7",
   "metadata": {
    "tags": []
   },
   "outputs": [],
   "source": [
    "!pip -q install darts"
   ]
  },
  {
   "cell_type": "markdown",
   "id": "2c1b43b2-1664-4250-8fed-7c71ea00bfd4",
   "metadata": {},
   "source": [
    "## Synthetic Data"
   ]
  },
  {
   "cell_type": "code",
   "execution_count": 3,
   "id": "4f4d75d0-35bd-465f-8d20-6a74b3929f0e",
   "metadata": {
    "tags": []
   },
   "outputs": [],
   "source": [
    "import pandas as pd\n",
    "import numpy as np\n",
    "from datetime import datetime, timedelta"
   ]
  },
  {
   "cell_type": "code",
   "execution_count": 4,
   "id": "fd80fc94-858b-40d2-8d1f-e4561dbb9eff",
   "metadata": {
    "tags": []
   },
   "outputs": [],
   "source": [
    "start_date = datetime.now()\n",
    "num_days = 365\n",
    "\n",
    "dates = [start_date + timedelta(days=i) for i in range(num_days)]\n",
    "sales = [100 + i * 10 + np.random.normal(0, 10) for i in range(num_days)]\n",
    "\n",
    "data = pd.DataFrame({\n",
    "    'date': dates,\n",
    "    'sales': sales\n",
    "})"
   ]
  },
  {
   "cell_type": "code",
   "execution_count": 6,
   "id": "71232e51-82e5-4646-b7f5-49ef891e4ba1",
   "metadata": {
    "tags": []
   },
   "outputs": [],
   "source": [
    "from darts import TimeSeries\n",
    "\n",
    "series = TimeSeries.from_dataframe(data, \"date\", \"sales\")"
   ]
  },
  {
   "cell_type": "markdown",
   "id": "5d081ab1-292b-46bd-9042-dfa3c8efff6b",
   "metadata": {},
   "source": [
    "## Darts Models"
   ]
  },
  {
   "cell_type": "code",
   "execution_count": 19,
   "id": "f031da7b-636f-4aea-8c0a-8e674cb325e7",
   "metadata": {
    "tags": []
   },
   "outputs": [
    {
     "name": "stdout",
     "output_type": "stream",
     "text": [
      "True\n",
      "1\n"
     ]
    }
   ],
   "source": [
    "import torch\n",
    "\n",
    "print(torch.cuda.is_available())\n",
    "print(torch.cuda.device_count())"
   ]
  },
  {
   "cell_type": "markdown",
   "id": "40a8e7a4-d3cd-4992-8a5a-7a26af4c1f1e",
   "metadata": {},
   "source": [
    "### Simple Model (Exponential Smoothing)"
   ]
  },
  {
   "cell_type": "code",
   "execution_count": 7,
   "id": "ee6128e6-701b-45f6-ae31-3c8053fea899",
   "metadata": {
    "tags": []
   },
   "outputs": [],
   "source": [
    "from darts.models import ExponentialSmoothing\n",
    "\n",
    "model = ExponentialSmoothing()\n",
    "model.fit(series)\n",
    "prediction = model.predict(90)"
   ]
  },
  {
   "cell_type": "markdown",
   "id": "e6f5614c-9cd9-4692-8dfc-13debfb4eda0",
   "metadata": {},
   "source": [
    "Complex Model (RNN)"
   ]
  },
  {
   "cell_type": "code",
   "execution_count": 45,
   "id": "cc13617f-99b8-4ccb-a1cd-4e98791303f9",
   "metadata": {
    "tags": []
   },
   "outputs": [],
   "source": [
    "from sklearn.preprocessing import MinMaxScaler\n",
    "from darts.dataprocessing.transformers import Scaler\n",
    "\n",
    "scaler = MinMaxScaler(feature_range=(-0.5, 0.5))\n",
    "\n",
    "transformer = Scaler(scaler)\n",
    "series_transformed = transformer.fit_transform(series)"
   ]
  },
  {
   "cell_type": "code",
   "execution_count": 50,
   "id": "0294d3e6-e84b-42e6-bc77-f4681a23d158",
   "metadata": {
    "tags": []
   },
   "outputs": [
    {
     "name": "stderr",
     "output_type": "stream",
     "text": [
      "GPU available: True (cuda), used: True\n",
      "TPU available: False, using: 0 TPU cores\n",
      "IPU available: False, using: 0 IPUs\n",
      "HPU available: False, using: 0 HPUs\n",
      "LOCAL_RANK: 0 - CUDA_VISIBLE_DEVICES: [0]\n",
      "\n",
      "  | Name          | Type             | Params\n",
      "---------------------------------------------------\n",
      "0 | criterion     | MSELoss          | 0     \n",
      "1 | train_metrics | MetricCollection | 0     \n",
      "2 | val_metrics   | MetricCollection | 0     \n",
      "3 | rnn           | GRU              | 23.2 K\n",
      "4 | V             | Linear           | 51    \n",
      "---------------------------------------------------\n",
      "23.3 K    Trainable params\n",
      "0         Non-trainable params\n",
      "23.3 K    Total params\n",
      "0.093     Total estimated model params size (MB)\n"
     ]
    },
    {
     "data": {
      "application/vnd.jupyter.widget-view+json": {
       "model_id": "e8f85ef1eda4450f94c077894d24b46d",
       "version_major": 2,
       "version_minor": 0
      },
      "text/plain": [
       "Training: |          | 0/? [00:00<?, ?it/s]"
      ]
     },
     "metadata": {},
     "output_type": "display_data"
    },
    {
     "name": "stderr",
     "output_type": "stream",
     "text": [
      "`Trainer.fit` stopped: `max_epochs=100` reached.\n",
      "GPU available: True (cuda), used: True\n",
      "TPU available: False, using: 0 TPU cores\n",
      "IPU available: False, using: 0 IPUs\n",
      "HPU available: False, using: 0 HPUs\n",
      "LOCAL_RANK: 0 - CUDA_VISIBLE_DEVICES: [0]\n"
     ]
    },
    {
     "data": {
      "application/vnd.jupyter.widget-view+json": {
       "model_id": "c6ea676044114c55b998da1b2da9264b",
       "version_major": 2,
       "version_minor": 0
      },
      "text/plain": [
       "Predicting: |          | 0/? [00:00<?, ?it/s]"
      ]
     },
     "metadata": {},
     "output_type": "display_data"
    }
   ],
   "source": [
    "from darts.models import RNNModel\n",
    "\n",
    "rnn_model = RNNModel(\n",
    "    model=\"LSTM\",\n",
    "    input_chunk_length=90,\n",
    "    training_length=180,\n",
    "    hidden_dim=50,\n",
    "    n_rnn_layers=2,\n",
    "    dropout=0.2,\n",
    "    force_reset=True,\n",
    "    show_warnings=True,\n",
    "    pl_trainer_kwargs={\n",
    "        \"accelerator\": \"gpu\",\n",
    "        \"devices\": [0],\n",
    "    }\n",
    ")\n",
    "rnn_model.fit(series_transformed)\n",
    "prediction = rnn_model.predict(90)"
   ]
  },
  {
   "cell_type": "code",
   "execution_count": 52,
   "id": "68f5466c-a858-4847-a0d8-6fc811a2259a",
   "metadata": {
    "tags": []
   },
   "outputs": [],
   "source": [
    "prediction_untransformed = transformer.inverse_transform(prediction)"
   ]
  }
 ],
 "metadata": {
  "environment": {
   "kernel": "conda-base-py",
   "name": "workbench-notebooks.m121",
   "type": "gcloud",
   "uri": "us-docker.pkg.dev/deeplearning-platform-release/gcr.io/workbench-notebooks:m121"
  },
  "kernelspec": {
   "display_name": "Python 3 (ipykernel) (Local)",
   "language": "python",
   "name": "conda-base-py"
  },
  "language_info": {
   "codemirror_mode": {
    "name": "ipython",
    "version": 3
   },
   "file_extension": ".py",
   "mimetype": "text/x-python",
   "name": "python",
   "nbconvert_exporter": "python",
   "pygments_lexer": "ipython3",
   "version": "3.10.14"
  }
 },
 "nbformat": 4,
 "nbformat_minor": 5
}
